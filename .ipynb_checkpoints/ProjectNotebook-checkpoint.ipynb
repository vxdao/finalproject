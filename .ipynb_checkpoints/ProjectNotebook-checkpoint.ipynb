{
 "cells": [
  {
   "cell_type": "markdown",
   "metadata": {},
   "source": [
    "# Project Description"
   ]
  },
  {
   "cell_type": "markdown",
   "metadata": {},
   "source": [
    "I am making a Black Jack game where I can apply random method which we was taught in the class . Mainly there are a dealer and player each will receive 2 cards in the first 2 deal round. The first card of dealer will be hidden , but the player's cards will be show all,then the player need to make a decision first which are either stand , hit or withdraw . Then after that the dealer will open its hidden card to check if they their 2 cards value is 17 or not ,If not the dealer has to hit ( get another card ) until the dealer get at least 17 then dealer will stand and compare its total cards value with the player's card value. Whoever has higher value within 21 is the winner , whoever goes over 21 is busted , an Ace can be count as 11 or 1 to fix in the range less than or equal 21 . Preference : https://medium.com/@samarakoon.gayan/a-game-of-black-jack-on-python-as-a-fun-exercise-3cd54efb9d83 "
   ]
  },
  {
   "cell_type": "markdown",
   "metadata": {},
   "source": [
    "## Project Code\n",
    "\n",
    "If it makes sense for your project, you can have code and outputs here in the notebook as well."
   ]
  },
  {
   "cell_type": "code",
   "execution_count": 1,
   "metadata": {},
   "outputs": [],
   "source": [
    "import sys\n",
    "sys.path.append('../')\n",
    "from my_module.functions import *"
   ]
  },
  {
   "cell_type": "code",
   "execution_count": null,
   "metadata": {},
   "outputs": [
    {
     "name": "stdout",
     "output_type": "stream",
     "text": [
      "Welcome to my Blackjack game.\n"
     ]
    }
   ],
   "source": [
    "\n",
    "#  play game function \n",
    "\n",
    "while True:\n",
    "\n",
    "        print(\"Welcome to my Blackjack game.\")\n",
    "\n",
    "        # Create & shuffle the deck, deal two cards to each player\n",
    "        deck = Deck()\n",
    "        deck.shuffle()\n",
    "\n",
    "        player_hand = Hand()\n",
    "        player_hand.add_card(deck.deal())\n",
    "        player_hand.add_card(deck.deal())\n",
    "\n",
    "        dealer_hand = Hand()\n",
    "        dealer_hand.add_card(deck.deal())\n",
    "        dealer_hand.add_card(deck.deal())\n",
    "\n",
    "        # Set up the Player's chips\n",
    "        player_chips = Chips()\n",
    "\n",
    "        # ask Player to place their betting money \n",
    "        take_bet(player_chips)\n",
    "\n",
    "        # Show cards (keep one dealer card hidden)\n",
    "        show_some_card(player_hand, dealer_hand)\n",
    "\n",
    "\n",
    "        withdraw = False\n",
    "        playing = True\n",
    "        while playing:  \n",
    "\n",
    "\n",
    "\n",
    "            # ask for Player to Hit or Stand or Withdraw\n",
    "            result = hit_or_stand_or_withdraw(deck, player_hand)\n",
    "            \n",
    "            if result == 0: #withdraw\n",
    "                playing = False\n",
    "                withdraw = True\n",
    "            elif result == 1: #stand \n",
    "                playing = False\n",
    "            else:\n",
    "                playing = True # hit\n",
    "            \n",
    "\n",
    "            # Show cards (but keep one dealer card hidden)\n",
    "            show_some_card(player_hand,dealer_hand)\n",
    "\n",
    "            # if player withdraw\n",
    "            if withdraw:\n",
    "                player_withdraw(player_hand, player_chips)\n",
    "                break \n",
    "\n",
    "\n",
    "            # If player's hand exceeds 21, run player_busts() and break out of loop\n",
    "\n",
    "            if player_hand.value >21:\n",
    "                player_busts(player_hand, dealer_hand, player_chips)\n",
    "                break\n",
    "\n",
    "\n",
    "\n",
    "        # If Player hasn't busted, play Dealer's hand until Dealer reaches 17\n",
    "        if player_hand.value <= 21 and withdraw == False:\n",
    "\n",
    "\n",
    "            while dealer_hand.value <17:\n",
    "                hit(deck, dealer_hand)\n",
    "\n",
    "\n",
    "            show_all_card(player_hand,dealer_hand)\n",
    "\n",
    "            # winning scenarios\n",
    "            if dealer_hand.value > 21:\n",
    "                dealer_busts(player_hand,dealer_hand,player_chips)\n",
    "\n",
    "            elif dealer_hand.value > player_hand.value:\n",
    "                dealer_wins(player_hand,dealer_hand,player_chips)\n",
    "\n",
    "            elif dealer_hand.value < player_hand.value:\n",
    "                player_wins(player_hand,dealer_hand,player_chips)\n",
    "\n",
    "            elif dealer_hand.value == player_hand.value:\n",
    "                push(player_hand, dealer_hand, player_chips)\n",
    "\n",
    "\n",
    "        # Inform Player of their chips total\n",
    "        print(\"Your new balance is \", player_chips.total)\n",
    "\n",
    "        # Ask to play again\n",
    "        new_game = input(\" you want to play again? Enter 'y' for yes  or 'n' for no\")\n",
    "        if new_game[0].lower() == 'y':\n",
    "            playing = True\n",
    "            continue\n",
    "        else:\n",
    "            print('thank you for playing , see you again')\n",
    "\n",
    "            break\n",
    "\n",
    "\n",
    "\n",
    "\n",
    "\n"
   ]
  },
  {
   "cell_type": "code",
   "execution_count": null,
   "metadata": {},
   "outputs": [],
   "source": []
  }
 ],
 "metadata": {
  "kernelspec": {
   "display_name": "Python 3",
   "language": "python",
   "name": "python3"
  },
  "language_info": {
   "codemirror_mode": {
    "name": "ipython",
    "version": 3
   },
   "file_extension": ".py",
   "mimetype": "text/x-python",
   "name": "python",
   "nbconvert_exporter": "python",
   "pygments_lexer": "ipython3",
   "version": "3.7.1"
  }
 },
 "nbformat": 4,
 "nbformat_minor": 2
}
